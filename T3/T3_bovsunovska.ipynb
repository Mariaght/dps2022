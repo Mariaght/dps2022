{
 "cells": [
  {
   "cell_type": "code",
   "execution_count": null,
   "metadata": {},
   "outputs": [],
   "source": []
  },
  {
   "cell_type": "markdown",
   "metadata": {},
   "source": [
    "# Task 3\n",
    "### of Data Processing Software\n",
    "### Student IAB-11\n",
    "### Bovsunovska Mariia"
   ]
  },
  {
   "cell_type": "markdown",
   "metadata": {},
   "source": [
    "Firstly lets import nessesary libraries"
   ]
  },
  {
   "cell_type": "code",
   "execution_count": 25,
   "metadata": {},
   "outputs": [],
   "source": [
    "import pandas as pd"
   ]
  },
  {
   "cell_type": "markdown",
   "metadata": {},
   "source": [
    "And read dataset"
   ]
  },
  {
   "cell_type": "code",
   "execution_count": 26,
   "metadata": {},
   "outputs": [],
   "source": [
    "df = pd.read_csv(\"hike_long.csv\")"
   ]
  },
  {
   "cell_type": "code",
   "execution_count": 27,
   "metadata": {},
   "outputs": [
    {
     "name": "stdout",
     "output_type": "stream",
     "text": [
      "   id                  name                                        location  \\\n",
      "0   1  Lake Hills Greenbelt  Puget Sound and Islands -- Seattle-Tacoma Area   \n",
      "1   1  Lake Hills Greenbelt  Puget Sound and Islands -- Seattle-Tacoma Area   \n",
      "2   1  Lake Hills Greenbelt  Puget Sound and Islands -- Seattle-Tacoma Area   \n",
      "3   1  Lake Hills Greenbelt  Puget Sound and Islands -- Seattle-Tacoma Area   \n",
      "4   1  Lake Hills Greenbelt  Puget Sound and Islands -- Seattle-Tacoma Area   \n",
      "5   2             Snow Lake            Snoqualmie Region -- Snoqualmie Pass   \n",
      "\n",
      "                 length  gain  highpoint  rating               features  \\\n",
      "0  2.3 miles, roundtrip    50      330.0    3.67  Dogs allowed on leash   \n",
      "1  2.3 miles, roundtrip    50      330.0    3.67               Wildlife   \n",
      "2  2.3 miles, roundtrip    50      330.0    3.67          Good for kids   \n",
      "3  2.3 miles, roundtrip    50      330.0    3.67                  Lakes   \n",
      "4  2.3 miles, roundtrip    50      330.0    3.67           Fall foliage   \n",
      "5  7.2 miles, roundtrip  1800     4400.0    4.16          Ridges/passes   \n",
      "\n",
      "                                         description  \n",
      "0  Hike through a pastoral area first settled and...  \n",
      "1  Hike through a pastoral area first settled and...  \n",
      "2  Hike through a pastoral area first settled and...  \n",
      "3  Hike through a pastoral area first settled and...  \n",
      "4  Hike through a pastoral area first settled and...  \n",
      "5  A relatively short and easy hike within a ston...  \n"
     ]
    }
   ],
   "source": [
    "print(df.head(6))"
   ]
  },
  {
   "cell_type": "markdown",
   "metadata": {},
   "source": [
    "#### Tidying dataset\n",
    "Create a new dataset clean_hike_trails with the next updates:\n",
    "1. Convert columns gain, highpoint, rating to numeric values.\n",
    "2. Add new column trip with the type of trip from column length (“roundtrip”, “trails”,\n",
    "“one-way”).\n",
    "3. Add new column length_total with the route length from column length, considering\n",
    "that for “one-way” trip you must double the route length.\n",
    "4. Add new column location_general with location from column location (a part before\n",
    "“–”).\n",
    "5. Add column id with row number"
   ]
  },
  {
   "cell_type": "markdown",
   "metadata": {},
   "source": [
    "- 1 Convert columns gain, highpoint, rating to numeric values.\n",
    "\n",
    "They are already numeric."
   ]
  },
  {
   "cell_type": "markdown",
   "metadata": {},
   "source": [
    "- 2 Add new column trip with the type of trip from column length (“roundtrip”, “trails”, “one-way”)."
   ]
  },
  {
   "cell_type": "code",
   "execution_count": 28,
   "metadata": {},
   "outputs": [
    {
     "name": "stdout",
     "output_type": "stream",
     "text": [
      "0       roundtrip\n",
      "1       roundtrip\n",
      "2       roundtrip\n",
      "3       roundtrip\n",
      "4       roundtrip\n",
      "          ...    \n",
      "8769    roundtrip\n",
      "8770    roundtrip\n",
      "8771    roundtrip\n",
      "8772    roundtrip\n",
      "8773    roundtrip\n",
      "Name: trip, Length: 8774, dtype: object\n"
     ]
    }
   ],
   "source": [
    "df[\"trip\"] = df[\"length\"].str.split(\" \").str[-1]\n",
    "print(df[\"trip\"])"
   ]
  },
  {
   "cell_type": "markdown",
   "metadata": {},
   "source": [
    "- 3 Add new column length_total with the route length from column length, considering that for “one-way” trip you must double the route length."
   ]
  },
  {
   "cell_type": "code",
   "execution_count": 29,
   "metadata": {},
   "outputs": [
    {
     "name": "stdout",
     "output_type": "stream",
     "text": [
      "0        2.3\n",
      "1        2.3\n",
      "2        2.3\n",
      "3        2.3\n",
      "4        2.3\n",
      "        ... \n",
      "8769    20.0\n",
      "8770     8.2\n",
      "8771     8.2\n",
      "8772     8.2\n",
      "8773     8.2\n",
      "Name: length_total, Length: 8774, dtype: float64\n"
     ]
    }
   ],
   "source": [
    "df[\"length_total\"] = pd.to_numeric(df[\"length\"].str.split(\" \").str[0])\n",
    "df[\"length_total\"] = df.apply(lambda df:\n",
    "                              df[\"length_total\"] * 2 \n",
    "                              if df[\"trip\"] == \"one-way\" \n",
    "                              else df[\"length_total\"]\n",
    "                              , axis=1)\n",
    "print(df[\"length_total\"])"
   ]
  },
  {
   "cell_type": "markdown",
   "metadata": {},
   "source": [
    "- 4 Add new column location_general with location from column location (a part before “–”)."
   ]
  },
  {
   "cell_type": "code",
   "execution_count": 30,
   "metadata": {},
   "outputs": [
    {
     "name": "stdout",
     "output_type": "stream",
     "text": [
      "0       Puget Sound and Islands\n",
      "1       Puget Sound and Islands\n",
      "2       Puget Sound and Islands\n",
      "3       Puget Sound and Islands\n",
      "4       Puget Sound and Islands\n",
      "                 ...           \n",
      "8769             North Cascades\n",
      "8770             South Cascades\n",
      "8771             South Cascades\n",
      "8772             South Cascades\n",
      "8773             South Cascades\n",
      "Name: location_general, Length: 8774, dtype: object\n"
     ]
    }
   ],
   "source": [
    "df[\"location_general\"] = df[\"location\"].str.split(\" -- \").str[0]\n",
    "print(df[\"location_general\"])"
   ]
  },
  {
   "cell_type": "markdown",
   "metadata": {},
   "source": [
    "- 5 Add column id with row number"
   ]
  },
  {
   "cell_type": "code",
   "execution_count": 31,
   "metadata": {},
   "outputs": [
    {
     "name": "stdout",
     "output_type": "stream",
     "text": [
      "0          0\n",
      "1          1\n",
      "2          2\n",
      "3          3\n",
      "4          4\n",
      "        ... \n",
      "8769    8769\n",
      "8770    8770\n",
      "8771    8771\n",
      "8772    8772\n",
      "8773    8773\n",
      "Name: index, Length: 8774, dtype: int64\n"
     ]
    }
   ],
   "source": [
    "df[\"index\"] = df.index\n",
    "print(df[\"index\"])"
   ]
  },
  {
   "cell_type": "markdown",
   "metadata": {},
   "source": [
    "Writing it to clean_hike_trails.csv"
   ]
  },
  {
   "cell_type": "code",
   "execution_count": 32,
   "metadata": {},
   "outputs": [],
   "source": [
    "df.to_csv(\"clean_hike_trails.csv\",index=False)"
   ]
  },
  {
   "cell_type": "markdown",
   "metadata": {},
   "source": [
    "#### Questioning dataset\n"
   ]
  },
  {
   "cell_type": "markdown",
   "metadata": {},
   "source": [
    "Question 1. How many routes have rating more than 4.9"
   ]
  },
  {
   "cell_type": "code",
   "execution_count": 34,
   "metadata": {},
   "outputs": [
    {
     "name": "stdout",
     "output_type": "stream",
     "text": [
      "318\n"
     ]
    }
   ],
   "source": [
    "print(len(df[df[\"rating\"] > 4.9]))"
   ]
  },
  {
   "cell_type": "markdown",
   "metadata": {},
   "source": [
    "It's not really a lot, cause it's a number of the best routes from 1890 `[look at the fifth question]`.\n",
    "And it's not very hight percent - only 17% of routes have the best rating."
   ]
  },
  {
   "cell_type": "markdown",
   "metadata": {},
   "source": [
    "Question 2. How many routes are “Good for kids” (hint: you can use (unnest function)?"
   ]
  },
  {
   "cell_type": "code",
   "execution_count": 35,
   "metadata": {},
   "outputs": [
    {
     "name": "stdout",
     "output_type": "stream",
     "text": [
      "694\n"
     ]
    }
   ],
   "source": [
    "print(len(df[df[\"features\"].str.contains(\"Good for kids\")]))"
   ]
  },
  {
   "cell_type": "markdown",
   "metadata": {},
   "source": [
    "Question 3. Which unique features can routes have?"
   ]
  },
  {
   "cell_type": "code",
   "execution_count": 36,
   "metadata": {},
   "outputs": [
    {
     "name": "stdout",
     "output_type": "stream",
     "text": [
      "['Dogs allowed on leash', 'Wildlife', 'Good for kids', 'Lakes', 'Fall foliage', 'Ridges/passes', 'Established campsites', 'Mountain views', 'Old growth', 'Waterfalls', 'Wildflowers/Meadows', 'Rivers', 'Dogs not allowed', 'Coast', 'Summits']\n"
     ]
    }
   ],
   "source": [
    "print(df.drop_duplicates(\"features\")[\"features\"].tolist())"
   ]
  },
  {
   "cell_type": "markdown",
   "metadata": {},
   "source": [
    "Question 4. What is the most common rating of a route?"
   ]
  },
  {
   "cell_type": "code",
   "execution_count": 37,
   "metadata": {},
   "outputs": [
    {
     "name": "stdout",
     "output_type": "stream",
     "text": [
      "0.0    1152\n",
      "3.0     723\n",
      "4.0     600\n",
      "3.5     375\n",
      "5.0     318\n",
      "2.5     204\n",
      "Name: rating, dtype: int64\n"
     ]
    }
   ],
   "source": [
    "print(df[\"rating\"].value_counts().head(6))"
   ]
  },
  {
   "cell_type": "markdown",
   "metadata": {},
   "source": [
    "Question 5. Your own question and answer."
   ]
  },
  {
   "cell_type": "markdown",
   "metadata": {},
   "source": [
    "Question 'My'. How many routs there are in the dataset at all?"
   ]
  },
  {
   "cell_type": "code",
   "execution_count": 38,
   "metadata": {},
   "outputs": [
    {
     "name": "stdout",
     "output_type": "stream",
     "text": [
      "1890\n"
     ]
    }
   ],
   "source": [
    "print(df['id'].nunique())"
   ]
  },
  {
   "cell_type": "code",
   "execution_count": null,
   "metadata": {},
   "outputs": [],
   "source": []
  },
  {
   "cell_type": "code",
   "execution_count": null,
   "metadata": {},
   "outputs": [],
   "source": []
  },
  {
   "cell_type": "code",
   "execution_count": null,
   "metadata": {},
   "outputs": [],
   "source": []
  }
 ],
 "metadata": {
  "kernelspec": {
   "display_name": "Python 3 (ipykernel)",
   "language": "python",
   "name": "python3"
  },
  "language_info": {
   "codemirror_mode": {
    "name": "ipython",
    "version": 3
   },
   "file_extension": ".py",
   "mimetype": "text/x-python",
   "name": "python",
   "nbconvert_exporter": "python",
   "pygments_lexer": "ipython3",
   "version": "3.7.4"
  }
 },
 "nbformat": 4,
 "nbformat_minor": 2
}
