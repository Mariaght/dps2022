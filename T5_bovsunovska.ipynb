{
 "cells": [
  {
   "cell_type": "code",
   "execution_count": null,
   "metadata": {},
   "outputs": [],
   "source": []
  },
  {
   "cell_type": "markdown",
   "metadata": {},
   "source": [
    "# Task 5\n",
    "### of Data Processing Software\n",
    "### Student IAB-11\n",
    "### Bovsunovska Mariia"
   ]
  },
  {
   "cell_type": "markdown",
   "metadata": {},
   "source": [
    "First of all lets import libraries, that we'll need, and read data of United States from 1999 to 2008"
   ]
  },
  {
   "cell_type": "code",
   "execution_count": 72,
   "metadata": {},
   "outputs": [],
   "source": [
    "import pandas as pd\n",
    "from matplotlib import pyplot as plt\n",
    "%matplotlib inline"
   ]
  },
  {
   "cell_type": "code",
   "execution_count": 73,
   "metadata": {},
   "outputs": [
    {
     "name": "stderr",
     "output_type": "stream",
     "text": [
      "C:\\Users\\1\\AppData\\Roaming\\Python\\Python37\\site-packages\\IPython\\core\\interactiveshell.py:3552: DtypeWarning: Columns (1,2) have mixed types.Specify dtype option on import or set low_memory=False.\n",
      "  exec(code_obj, self.user_global_ns, self.user_ns)\n"
     ]
    }
   ],
   "source": [
    "df1 = pd.read_csv(\"summarySCC_PM25.csv\")\n",
    "df2 = pd.read_csv(\"Source_Classification_Code.csv\")"
   ]
  },
  {
   "cell_type": "code",
   "execution_count": 74,
   "metadata": {},
   "outputs": [
    {
     "name": "stdout",
     "output_type": "stream",
     "text": [
      "['rownames', 'fips', 'SCC', 'Pollutant', 'Emissions', 'type', 'year']\n"
     ]
    }
   ],
   "source": [
    "print(list(df1.keys()))"
   ]
  },
  {
   "cell_type": "code",
   "execution_count": 75,
   "metadata": {},
   "outputs": [
    {
     "name": "stderr",
     "output_type": "stream",
     "text": [
      "C:\\Users\\1\\AppData\\Roaming\\Python\\Python37\\site-packages\\ipykernel_launcher.py:1: FutureWarning: The default value of regex will change from True to False in a future version.\n",
      "  \"\"\"Entry point for launching an IPython kernel.\n"
     ]
    }
   ],
   "source": [
    "df1['fips'] = df1['fips'].astype(str).str.replace('\\s+', '')\n",
    "for i in ['rownames', 'fips', 'SCC', 'Emissions', 'year']:\n",
    "    df1[i] = pd.to_numeric(df1[i], errors='ignore')"
   ]
  },
  {
   "cell_type": "code",
   "execution_count": 76,
   "metadata": {},
   "outputs": [
    {
     "name": "stdout",
     "output_type": "stream",
     "text": [
      "   rownames  fips       SCC Pollutant  Emissions   type  year\n",
      "0         4  9001  10100401  PM25-PRI     15.714  POINT  1999\n",
      "1         8  9001  10100404  PM25-PRI    234.178  POINT  1999\n",
      "2        12  9001  10100501  PM25-PRI      0.128  POINT  1999\n",
      "3        16  9001  10200401  PM25-PRI      2.036  POINT  1999\n",
      "4        20  9001  10200504  PM25-PRI      0.388  POINT  1999\n",
      "5        24  9001  10200602  PM25-PRI      1.490  POINT  1999\n"
     ]
    }
   ],
   "source": [
    "print(df1.head(6))"
   ]
  },
  {
   "cell_type": "code",
   "execution_count": 77,
   "metadata": {},
   "outputs": [
    {
     "name": "stdout",
     "output_type": "stream",
     "text": [
      "   Unnamed: 0       SCC Data.Category  \\\n",
      "0           0  10100101         Point   \n",
      "1           1  10100102         Point   \n",
      "2           2  10100201         Point   \n",
      "3           3  10100202         Point   \n",
      "4           4  10100203         Point   \n",
      "5           5  10100204         Point   \n",
      "\n",
      "                                          Short.Name  \\\n",
      "0  Ext Comb /Electric Gen /Anthracite Coal /Pulve...   \n",
      "1  Ext Comb /Electric Gen /Anthracite Coal /Trave...   \n",
      "2  Ext Comb /Electric Gen /Bituminous Coal /Pulve...   \n",
      "3  Ext Comb /Electric Gen /Bituminous Coal /Pulve...   \n",
      "4  Ext Comb /Electric Gen /Bituminous Coal /Cyclo...   \n",
      "5  Ext Comb /Electric Gen /Bituminous Coal /Sprea...   \n",
      "\n",
      "                                EI.Sector Option.Group Option.Set  \\\n",
      "0  Fuel Comb - Electric Generation - Coal          NaN        NaN   \n",
      "1  Fuel Comb - Electric Generation - Coal          NaN        NaN   \n",
      "2  Fuel Comb - Electric Generation - Coal          NaN        NaN   \n",
      "3  Fuel Comb - Electric Generation - Coal          NaN        NaN   \n",
      "4  Fuel Comb - Electric Generation - Coal          NaN        NaN   \n",
      "5  Fuel Comb - Electric Generation - Coal          NaN        NaN   \n",
      "\n",
      "                 SCC.Level.One        SCC.Level.Two  \\\n",
      "0  External Combustion Boilers  Electric Generation   \n",
      "1  External Combustion Boilers  Electric Generation   \n",
      "2  External Combustion Boilers  Electric Generation   \n",
      "3  External Combustion Boilers  Electric Generation   \n",
      "4  External Combustion Boilers  Electric Generation   \n",
      "5  External Combustion Boilers  Electric Generation   \n",
      "\n",
      "                 SCC.Level.Three  \\\n",
      "0                Anthracite Coal   \n",
      "1                Anthracite Coal   \n",
      "2  Bituminous/Subbituminous Coal   \n",
      "3  Bituminous/Subbituminous Coal   \n",
      "4  Bituminous/Subbituminous Coal   \n",
      "5  Bituminous/Subbituminous Coal   \n",
      "\n",
      "                                  SCC.Level.Four  Map.To  Last.Inventory.Year  \\\n",
      "0                                Pulverized Coal     NaN                  NaN   \n",
      "1              Traveling Grate (Overfeed) Stoker     NaN                  NaN   \n",
      "2  Pulverized Coal: Wet Bottom (Bituminous Coal)     NaN                  NaN   \n",
      "3  Pulverized Coal: Dry Bottom (Bituminous Coal)     NaN                  NaN   \n",
      "4              Cyclone Furnace (Bituminous Coal)     NaN                  NaN   \n",
      "5              Spreader Stoker (Bituminous Coal)     NaN                  NaN   \n",
      "\n",
      "  Created_Date Revised_Date Usage.Notes  \n",
      "0          NaN          NaN         NaN  \n",
      "1          NaN          NaN         NaN  \n",
      "2          NaN          NaN         NaN  \n",
      "3          NaN          NaN         NaN  \n",
      "4          NaN          NaN         NaN  \n",
      "5          NaN          NaN         NaN  \n"
     ]
    }
   ],
   "source": [
    "print(df2.head(6))"
   ]
  },
  {
   "cell_type": "markdown",
   "metadata": {},
   "source": [
    "#### Questions\n",
    "You must address the following questions and tasks in your exploratory analysis. For each\n",
    "question/task you will need to make a single bar plot. You can use any plotting system in R\n",
    "to make your plot."
   ]
  },
  {
   "cell_type": "markdown",
   "metadata": {},
   "source": [
    "1. Have total emissions from PM2.5 decreased in the United States from 1999 to 2008? Make a plot showing the total PM2.5 emission from all sources for each of the years 1999, 2002, 2005, and 2008."
   ]
  },
  {
   "cell_type": "code",
   "execution_count": 78,
   "metadata": {},
   "outputs": [
    {
     "data": {
      "text/plain": [
       "<AxesSubplot:xlabel='year'>"
      ]
     },
     "execution_count": 78,
     "metadata": {},
     "output_type": "execute_result"
    },
    {
     "data": {
      "image/png": "[encoded data removed]",
      "text/plain": [
       "<Figure size 432x288 with 1 Axes>"
      ]
     },
     "metadata": {
      "needs_background": "light"
     },
     "output_type": "display_data"
    }
   ],
   "source": [
    "t1_group = df1.groupby(\"year\", as_index=False).sum(\"Emissions\")\n",
    "t1_group.plot(x=\"year\", y=\"Emissions\", kind=\"bar\")"
   ]
  },
  {
   "cell_type": "markdown",
   "metadata": {},
   "source": [
    "2. Have total emissions from PM2.5 decreased in the Baltimore City, Maryland (fips == \"24510\") from 1999 to 2008?\n"
   ]
  },
  {
   "cell_type": "code",
   "execution_count": 79,
   "metadata": {},
   "outputs": [
    {
     "data": {
      "text/plain": [
       "<AxesSubplot:xlabel='year'>"
      ]
     },
     "execution_count": 79,
     "metadata": {},
     "output_type": "execute_result"
    },
    {
     "data": {
      "image/png": "[encoded data removed]",
      "text/plain": [
       "<Figure size 432x288 with 1 Axes>"
      ]
     },
     "metadata": {
      "needs_background": "light"
     },
     "output_type": "display_data"
    }
   ],
   "source": [
    "t2_group = df1[df1[\"fips\"] == \"24510\"].groupby(\"year\", as_index=False).sum(\"Emissions\")\n",
    "\n",
    "t2_group.plot(x=\"year\", y=\"Emissions\", kind=\"bar\")"
   ]
  },
  {
   "cell_type": "markdown",
   "metadata": {},
   "source": [
    "3. Of the four types of sources indicated by the type (point, nonpoint, onroad, nonroad) variable, which of these four sources have seen decreases in emissions from 1999–2008 for Baltimore City? Which have seen increases in emissions from 1999–2008?\n"
   ]
  },
  {
   "cell_type": "code",
   "execution_count": 80,
   "metadata": {
    "scrolled": false
   },
   "outputs": [
    {
     "data": {
      "image/png": "[encoded data removed]",
      "text/plain": [
       "<Figure size 432x288 with 1 Axes>"
      ]
     },
     "metadata": {
      "needs_background": "light"
     },
     "output_type": "display_data"
    },
    {
     "data": {
      "image/png": "[encoded data removed]",
      "text/plain": [
       "<Figure size 432x288 with 1 Axes>"
      ]
     },
     "metadata": {
      "needs_background": "light"
     },
     "output_type": "display_data"
    },
    {
     "data": {
      "image/png": "[encoded data removed]",
      "text/plain": [
       "<Figure size 432x288 with 1 Axes>"
      ]
     },
     "metadata": {
      "needs_background": "light"
     },
     "output_type": "display_data"
    },
    {
     "data": {
      "image/png": "[encoded data removed]",
      "text/plain": [
       "<Figure size 432x288 with 1 Axes>"
      ]
     },
     "metadata": {
      "needs_background": "light"
     },
     "output_type": "display_data"
    }
   ],
   "source": [
    "types = df1[\"type\"].drop_duplicates().tolist()\n",
    "for i, t in enumerate(types):\n",
    "    df1[df1[\"type\"] == t].groupby(\"year\", as_index=False).sum(\"Emissions\") \\\n",
    "        .plot(x=\"year\", y=\"Emissions\", kind=\"bar\", title=t)"
   ]
  },
  {
   "cell_type": "markdown",
   "metadata": {},
   "source": [
    "Actually all of them look decreased and none increased (even non-road type had something that seems to have stable trend, but not increased (if we'll count without last 2008 year))."
   ]
  },
  {
   "cell_type": "markdown",
   "metadata": {},
   "source": [
    "4. Across the United States, how have emissions from coal combustion-related sources changed from 1999–2008?\n"
   ]
  },
  {
   "cell_type": "code",
   "execution_count": 109,
   "metadata": {},
   "outputs": [],
   "source": [
    "sources = [i for i in df2[[\"SCC\", \"EI.Sector\"]].to_dict().values()]\n",
    "sources = {sources[0][i]: sources[1][i] for i in range(len(sources[0]))}\n",
    "\n",
    "df1_2 = df1.apply(lambda x: x.apply(lambda y: sources[str(y)]) if x.name == \"SCC\" else x)"
   ]
  },
  {
   "cell_type": "code",
   "execution_count": 110,
   "metadata": {
    "scrolled": true
   },
   "outputs": [
    {
     "data": {
      "text/plain": [
       "<AxesSubplot:xlabel='year'>"
      ]
     },
     "execution_count": 110,
     "metadata": {},
     "output_type": "execute_result"
    },
    {
     "data": {
      "image/png": "[encoded data removed]",
      "text/plain": [
       "<Figure size 432x288 with 1 Axes>"
      ]
     },
     "metadata": {
      "needs_background": "light"
     },
     "output_type": "display_data"
    }
   ],
   "source": [
    "t4_coal = df1_2[df1_2[\"SCC\"].str.contains(\"Coal\")]\n",
    "t4_group = t4_coal.groupby(\"year\", as_index=False).sum(\"Emissions\")\n",
    "t4_group.plot(x=\"year\", y=\"Emissions\", kind=\"bar\")"
   ]
  },
  {
   "cell_type": "markdown",
   "metadata": {},
   "source": [
    "5. How have emissions from motor vehicle sources changed from 1999–2008 in Baltimore City (EI.Sector starts from “Mobile”)?\n"
   ]
  },
  {
   "cell_type": "markdown",
   "metadata": {},
   "source": [
    "Baltimore City, Maryland (fips == \"24510\")"
   ]
  },
  {
   "cell_type": "code",
   "execution_count": 111,
   "metadata": {},
   "outputs": [
    {
     "data": {
      "text/plain": [
       "<AxesSubplot:xlabel='year'>"
      ]
     },
     "execution_count": 111,
     "metadata": {},
     "output_type": "execute_result"
    },
    {
     "data": {
      "image/png": "[encoded data removed]",
      "text/plain": [
       "<Figure size 432x288 with 1 Axes>"
      ]
     },
     "metadata": {
      "needs_background": "light"
     },
     "output_type": "display_data"
    }
   ],
   "source": [
    "t5_filter = df1_2[(df1_2[\"SCC\"].str.startswith(\"Mobile\")) & (df1_2[\"fips\"] == \"24510\")] \n",
    "t5_group = t5_filter.groupby(\"year\", as_index=False).sum(\"Emissions\")\n",
    "\n",
    "t5_group.plot(x=\"year\", y=\"Emissions\", kind=\"bar\")"
   ]
  },
  {
   "cell_type": "markdown",
   "metadata": {},
   "source": [
    "6. Compare emissions from motor vehicle sources in Baltimore City with emissions from motor vehicle sources in Los Angeles County, California (fips == \"06037\"). Which city has seen greater changes over time in motor vehicle emissions?"
   ]
  },
  {
   "cell_type": "code",
   "execution_count": 144,
   "metadata": {},
   "outputs": [
    {
     "data": {
      "text/plain": [
       "<AxesSubplot:title={'center':'Los Angeles Country emissions'}, xlabel='year'>"
      ]
     },
     "execution_count": 144,
     "metadata": {},
     "output_type": "execute_result"
    },
    {
     "data": {
      "image/png": "[encoded data removed]",
      "text/plain": [
       "<Figure size 432x288 with 1 Axes>"
      ]
     },
     "metadata": {
      "needs_background": "light"
     },
     "output_type": "display_data"
    },
    {
     "data": {
      "image/png": "[encoded data removed]",
      "text/plain": [
       "<Figure size 432x288 with 1 Axes>"
      ]
     },
     "metadata": {
      "needs_background": "light"
     },
     "output_type": "display_data"
    }
   ],
   "source": [
    "t6_filter = df1_2[(df1_2[\"SCC\"].str.startswith(\"Mobile\"))  & ((df1_2[\"fips\"] == \"6037\") | (df1_2[\"fips\"] == \"06037\"))]\n",
    "t6_group = t6_filter.groupby(\"year\", as_index=False).sum(\"Emissions\")\n",
    "\n",
    "t5_group.plot(x=\"year\", y=\"Emissions\", title=\"Baltimore emissions\", kind=\"bar\")\n",
    "t6_group.plot(x=\"year\", y=\"Emissions\", title=\"Los Angeles Country emissions\", kind=\"bar\")\n"
   ]
  },
  {
   "cell_type": "markdown",
   "metadata": {},
   "source": [
    "Los Angeles Country clearly has more population than Baltimore. We can see that because of amount of emissions. Also seems that LAC has stable emissions trens, while Baltimore had a lot of emissions, after that small amount, and nowadays seems, that it's growing again. But still it's not even near the amount of emissions of LAC, it's 15 times smaller."
   ]
  },
  {
   "cell_type": "code",
   "execution_count": null,
   "metadata": {},
   "outputs": [],
   "source": []
  }
 ],
 "metadata": {
  "kernelspec": {
   "display_name": "Python 3 (ipykernel)",
   "language": "python",
   "name": "python3"
  },
  "language_info": {
   "codemirror_mode": {
    "name": "ipython",
    "version": 3
   },
   "file_extension": ".py",
   "mimetype": "text/x-python",
   "name": "python",
   "nbconvert_exporter": "python",
   "pygments_lexer": "ipython3",
   "version": "3.7.4"
  }
 },
 "nbformat": 4,
 "nbformat_minor": 4
}
