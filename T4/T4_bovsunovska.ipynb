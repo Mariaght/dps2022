{
 "cells": [
  {
   "cell_type": "code",
   "execution_count": null,
   "metadata": {},
   "outputs": [],
   "source": []
  },
  {
   "cell_type": "markdown",
   "metadata": {},
   "source": [
    "# Task 4\n",
    "### of Data Processing Software\n",
    "### Student IAB-11\n",
    "### Bovsunovska Mariia"
   ]
  },
  {
   "cell_type": "markdown",
   "metadata": {},
   "source": [
    "Firstly lets import nessesary libraries and setup options"
   ]
  },
  {
   "cell_type": "code",
   "execution_count": 14,
   "metadata": {},
   "outputs": [],
   "source": [
    "import pandas as pd\n",
    "import numpy as np\n",
    "import os\n",
    "import re"
   ]
  },
  {
   "cell_type": "markdown",
   "metadata": {},
   "source": [
    "You goal is to prepare tidy data that can be used for later analysis."
   ]
  },
  {
   "cell_type": "markdown",
   "metadata": {},
   "source": [
    "You should create one script that does the following.\n",
    "1. Merges the training and the test sets to create one data set.\n",
    "2. Extracts only the measurements on the mean and standard deviation for each measurement.\n",
    "3. Uses descriptive activity names to name the activities in the data set\n",
    "4. Appropriately labels the data set with descriptive variable names.\n",
    "5. From the data set in step 4, creates a second, independent tidy data set with the average of each variable for each activity and each subject."
   ]
  },
  {
   "cell_type": "markdown",
   "metadata": {},
   "source": [
    "Lets read the data as a start to understand what the structure they have and name the columns by their names if they have such."
   ]
  },
  {
   "cell_type": "code",
   "execution_count": 2,
   "metadata": {},
   "outputs": [],
   "source": [
    "def read_features():    \n",
    "    features = open(\"./UCI HAR Dataset/features.txt\", \"r\").read()\n",
    "    features = features.split(\"\\n\")\n",
    "    features = [i.split() for i in features]\n",
    "    features = [i[1] for i in (features if features[-1] else features[:-1])]\n",
    "    return features\n",
    "\n",
    "def cleaning_txt(text):\n",
    "    text = re.sub(r\" +\", \" \", text)\n",
    "    text = re.sub(r\"\\s*\\n\\s*\", \"\\n\", text)\n",
    "    text = re.sub(r\"(^\\s+|\\s+$)\", \"\", text)\n",
    "    return text\n",
    "\n",
    "def getting_and_naming_data():\n",
    "    data = {}\n",
    "    for split in [\"test\", \"train\"]:\n",
    "        data[split] = {}\n",
    "        for root, dirs, files in os.walk(f'./UCI HAR Dataset/{split}'):\n",
    "            for file in files:\n",
    "                text = open(os.path.join(root, file), \"r\").read()\n",
    "                text = cleaning_txt(text)\n",
    "                col = file.replace(f\"_{split}.txt\", \"\")\n",
    "                data[split][col] = text.split(\"\\n\")\n",
    "                data[split][col] = [q.split(\" \") for q in data[split][col]]\n",
    "                data[split][col] = np.transpose(data[split][col])\n",
    "                if col != \"X\":\n",
    "                    data[split][col] = {col + \"_\" + str(i): v for i, v in enumerate(data[split][col])}\n",
    "                else:\n",
    "                    data[split][col] = {features[i]: v for i, v in enumerate(data[split][col])}\n",
    "    return data"
   ]
  },
  {
   "cell_type": "markdown",
   "metadata": {},
   "source": [
    "It's taking a while cause of size of the files and txt format."
   ]
  },
  {
   "cell_type": "code",
   "execution_count": 3,
   "metadata": {},
   "outputs": [],
   "source": [
    "features = read_features()\n",
    "data = getting_and_naming_data()"
   ]
  },
  {
   "cell_type": "markdown",
   "metadata": {},
   "source": [
    "After reading lets unite data in one dataset to it not to be something so divided (all raw data are divided to \"x y z\" groups and name of the way they were get by)."
   ]
  },
  {
   "cell_type": "code",
   "execution_count": 4,
   "metadata": {},
   "outputs": [],
   "source": [
    "test_df = [pd.DataFrame(i) for i in data[\"test\"].values()]\n",
    "train_df = [pd.DataFrame(i) for i in data[\"train\"].values()]\n",
    "\n",
    "for name in range(1, len(test_df)):\n",
    "    test_df[0] = test_df[0].join(test_df[name])\n",
    "test_df = test_df[0]\n",
    "\n",
    "for name in range(1, len(train_df)):\n",
    "    train_df[0] = train_df[0].join(train_df[name])\n",
    "train_df = train_df[0]"
   ]
  },
  {
   "cell_type": "markdown",
   "metadata": {},
   "source": [
    "Then lets convert data from text to numeric values"
   ]
  },
  {
   "cell_type": "code",
   "execution_count": 5,
   "metadata": {},
   "outputs": [],
   "source": [
    "for i in test_df:\n",
    "    test_df[i] = pd.to_numeric(test_df[i])\n",
    "for i in train_df:\n",
    "    train_df[i] = pd.to_numeric(train_df[i])"
   ]
  },
  {
   "cell_type": "markdown",
   "metadata": {},
   "source": [
    "Finally we get such test and train data grouped"
   ]
  },
  {
   "cell_type": "markdown",
   "metadata": {},
   "source": [
    "Test dataset"
   ]
  },
  {
   "cell_type": "code",
   "execution_count": 6,
   "metadata": {},
   "outputs": [
    {
     "name": "stdout",
     "output_type": "stream",
     "text": [
      "   subject_0  tBodyAcc-mean()-X  tBodyAcc-mean()-Y  tBodyAcc-mean()-Z  \\\n",
      "0          2           0.257178          -0.023285          -0.014654   \n",
      "1          2           0.286027          -0.013163          -0.119083   \n",
      "2          2           0.275485          -0.026050          -0.118152   \n",
      "3          2           0.270298          -0.032614          -0.117520   \n",
      "4          2           0.274833          -0.027848          -0.129527   \n",
      "5          2           0.279220          -0.018620          -0.113902   \n",
      "\n",
      "   tBodyAcc-std()-X  tBodyAcc-std()-Y  tBodyAcc-std()-Z  tBodyAcc-mad()-X  \\\n",
      "0         -0.938404         -0.920091         -0.667683         -0.952501   \n",
      "1         -0.975415         -0.967458         -0.944958         -0.986799   \n",
      "2         -0.993819         -0.969926         -0.962748         -0.994403   \n",
      "3         -0.994743         -0.973268         -0.967091         -0.995274   \n",
      "4         -0.993852         -0.967445         -0.978295         -0.994111   \n",
      "5         -0.994455         -0.970417         -0.965316         -0.994585   \n",
      "\n",
      "   tBodyAcc-mad()-Y  tBodyAcc-mad()-Z  ...  total_acc_z_118  total_acc_z_119  \\\n",
      "0         -0.925249         -0.674302  ...         0.155110         0.153346   \n",
      "1         -0.968401         -0.945823  ...         0.133731         0.132851   \n",
      "2         -0.970735         -0.963483  ...         0.131392         0.132404   \n",
      "3         -0.974471         -0.968897  ...         0.126040         0.124815   \n",
      "4         -0.965953         -0.977346  ...         0.129091         0.125772   \n",
      "5         -0.969481         -0.965897  ...         0.141828         0.142339   \n",
      "\n",
      "   total_acc_z_120  total_acc_z_121  total_acc_z_122  total_acc_z_123  \\\n",
      "0         0.149289         0.147401         0.146905         0.145261   \n",
      "1         0.132054         0.132224         0.139767         0.147877   \n",
      "2         0.134938         0.137589         0.134431         0.133174   \n",
      "3         0.125353         0.126463         0.121757         0.117611   \n",
      "4         0.126042         0.121086         0.118511         0.125458   \n",
      "5         0.136751         0.134047         0.125388         0.117223   \n",
      "\n",
      "   total_acc_z_124  total_acc_z_125  total_acc_z_126  total_acc_z_127  \n",
      "0         0.143904         0.144395         0.144703         0.145494  \n",
      "1         0.153025         0.152788         0.139843         0.121314  \n",
      "2         0.133712         0.132678         0.132694         0.132117  \n",
      "3         0.118865         0.116060         0.110997         0.111912  \n",
      "4         0.129365         0.125895         0.122510         0.122760  \n",
      "5         0.120749         0.120246         0.115964         0.115451  \n",
      "\n",
      "[6 rows x 1631 columns]\n"
     ]
    }
   ],
   "source": [
    "print(test_df.head(6))"
   ]
  },
  {
   "cell_type": "markdown",
   "metadata": {},
   "source": [
    "Train dataset"
   ]
  },
  {
   "cell_type": "code",
   "execution_count": 7,
   "metadata": {},
   "outputs": [
    {
     "name": "stdout",
     "output_type": "stream",
     "text": [
      "   subject_0  tBodyAcc-mean()-X  tBodyAcc-mean()-Y  tBodyAcc-mean()-Z  \\\n",
      "0          1           0.288585          -0.020294          -0.132905   \n",
      "1          1           0.278419          -0.016411          -0.123520   \n",
      "2          1           0.279653          -0.019467          -0.113462   \n",
      "3          1           0.279174          -0.026201          -0.123283   \n",
      "4          1           0.276629          -0.016570          -0.115362   \n",
      "5          1           0.277199          -0.010098          -0.105137   \n",
      "\n",
      "   tBodyAcc-std()-X  tBodyAcc-std()-Y  tBodyAcc-std()-Z  tBodyAcc-mad()-X  \\\n",
      "0         -0.995279         -0.983111         -0.913526         -0.995112   \n",
      "1         -0.998245         -0.975300         -0.960322         -0.998807   \n",
      "2         -0.995380         -0.967187         -0.978944         -0.996520   \n",
      "3         -0.996091         -0.983403         -0.990675         -0.997099   \n",
      "4         -0.998139         -0.980817         -0.990482         -0.998321   \n",
      "5         -0.997335         -0.990487         -0.995420         -0.997627   \n",
      "\n",
      "   tBodyAcc-mad()-Y  tBodyAcc-mad()-Z  ...  total_acc_z_118  total_acc_z_119  \\\n",
      "0         -0.983185         -0.923527  ...         0.100058         0.098564   \n",
      "1         -0.974914         -0.957686  ...         0.094537         0.098759   \n",
      "2         -0.963668         -0.977469  ...         0.085343         0.087155   \n",
      "3         -0.982750         -0.989302  ...         0.088112         0.087322   \n",
      "4         -0.979672         -0.990441  ...         0.088028         0.090312   \n",
      "5         -0.990218         -0.995549  ...         0.088874         0.088109   \n",
      "\n",
      "   total_acc_z_120  total_acc_z_121  total_acc_z_122  total_acc_z_123  \\\n",
      "0         0.093177         0.088742         0.090505         0.094843   \n",
      "1         0.101977         0.095360         0.089466         0.095126   \n",
      "2         0.084546         0.082166         0.081972         0.081413   \n",
      "3         0.083738         0.082701         0.084490         0.082785   \n",
      "4         0.088713         0.086957         0.086522         0.081640   \n",
      "5         0.088683         0.089237         0.085365         0.084610   \n",
      "\n",
      "   total_acc_z_124  total_acc_z_125  total_acc_z_126  total_acc_z_127  \n",
      "0         0.098350         0.100385         0.099874         0.094987  \n",
      "1         0.099496         0.093535         0.089035         0.090612  \n",
      "2         0.081936         0.083011         0.082334         0.081487  \n",
      "3         0.084084         0.085761         0.083275         0.081404  \n",
      "4         0.079652         0.081329         0.085397         0.088816  \n",
      "5         0.086395         0.088122         0.088166         0.087485  \n",
      "\n",
      "[6 rows x 1631 columns]\n"
     ]
    }
   ],
   "source": [
    "print(train_df.head(6))"
   ]
  },
  {
   "cell_type": "markdown",
   "metadata": {},
   "source": [
    "Now lets go to the tasks of the Task 4, that were shown above, at the start."
   ]
  },
  {
   "cell_type": "markdown",
   "metadata": {},
   "source": [
    "1. Merges the training and the test sets to create one data set."
   ]
  },
  {
   "cell_type": "code",
   "execution_count": 8,
   "metadata": {},
   "outputs": [
    {
     "name": "stdout",
     "output_type": "stream",
     "text": [
      "   subject_0  tBodyAcc-mean()-X  tBodyAcc-mean()-Y  tBodyAcc-mean()-Z  \\\n",
      "0          2           0.257178          -0.023285          -0.014654   \n",
      "1          2           0.286027          -0.013163          -0.119083   \n",
      "2          2           0.275485          -0.026050          -0.118152   \n",
      "3          2           0.270298          -0.032614          -0.117520   \n",
      "4          2           0.274833          -0.027848          -0.129527   \n",
      "5          2           0.279220          -0.018620          -0.113902   \n",
      "\n",
      "   tBodyAcc-std()-X  tBodyAcc-std()-Y  tBodyAcc-std()-Z  tBodyAcc-mad()-X  \\\n",
      "0         -0.938404         -0.920091         -0.667683         -0.952501   \n",
      "1         -0.975415         -0.967458         -0.944958         -0.986799   \n",
      "2         -0.993819         -0.969926         -0.962748         -0.994403   \n",
      "3         -0.994743         -0.973268         -0.967091         -0.995274   \n",
      "4         -0.993852         -0.967445         -0.978295         -0.994111   \n",
      "5         -0.994455         -0.970417         -0.965316         -0.994585   \n",
      "\n",
      "   tBodyAcc-mad()-Y  tBodyAcc-mad()-Z  ...  total_acc_z_118  total_acc_z_119  \\\n",
      "0         -0.925249         -0.674302  ...         0.155110         0.153346   \n",
      "1         -0.968401         -0.945823  ...         0.133731         0.132851   \n",
      "2         -0.970735         -0.963483  ...         0.131392         0.132404   \n",
      "3         -0.974471         -0.968897  ...         0.126040         0.124815   \n",
      "4         -0.965953         -0.977346  ...         0.129091         0.125772   \n",
      "5         -0.969481         -0.965897  ...         0.141828         0.142339   \n",
      "\n",
      "   total_acc_z_120  total_acc_z_121  total_acc_z_122  total_acc_z_123  \\\n",
      "0         0.149289         0.147401         0.146905         0.145261   \n",
      "1         0.132054         0.132224         0.139767         0.147877   \n",
      "2         0.134938         0.137589         0.134431         0.133174   \n",
      "3         0.125353         0.126463         0.121757         0.117611   \n",
      "4         0.126042         0.121086         0.118511         0.125458   \n",
      "5         0.136751         0.134047         0.125388         0.117223   \n",
      "\n",
      "   total_acc_z_124  total_acc_z_125  total_acc_z_126  total_acc_z_127  \n",
      "0         0.143904         0.144395         0.144703         0.145494  \n",
      "1         0.153025         0.152788         0.139843         0.121314  \n",
      "2         0.133712         0.132678         0.132694         0.132117  \n",
      "3         0.118865         0.116060         0.110997         0.111912  \n",
      "4         0.129365         0.125895         0.122510         0.122760  \n",
      "5         0.120749         0.120246         0.115964         0.115451  \n",
      "\n",
      "[6 rows x 1631 columns]\n"
     ]
    }
   ],
   "source": [
    "df = pd.concat([test_df, train_df], ignore_index=True)\n",
    "print(df.head(6))"
   ]
  },
  {
   "cell_type": "markdown",
   "metadata": {},
   "source": [
    "2. Extracts only the measurements on the mean and standard deviation for each measurement."
   ]
  },
  {
   "cell_type": "code",
   "execution_count": 9,
   "metadata": {},
   "outputs": [
    {
     "name": "stdout",
     "output_type": "stream",
     "text": [
      "   tBodyAcc-mean()-X  tBodyAcc-mean()-Y  tBodyAcc-mean()-Z  tBodyAcc-std()-X  \\\n",
      "0           0.257178          -0.023285          -0.014654         -0.938404   \n",
      "1           0.286027          -0.013163          -0.119083         -0.975415   \n",
      "2           0.275485          -0.026050          -0.118152         -0.993819   \n",
      "3           0.270298          -0.032614          -0.117520         -0.994743   \n",
      "4           0.274833          -0.027848          -0.129527         -0.993852   \n",
      "5           0.279220          -0.018620          -0.113902         -0.994455   \n",
      "\n",
      "   tBodyAcc-std()-Y  tBodyAcc-std()-Z  tGravityAcc-mean()-X  \\\n",
      "0         -0.920091         -0.667683              0.936489   \n",
      "1         -0.967458         -0.944958              0.927404   \n",
      "2         -0.969926         -0.962748              0.929915   \n",
      "3         -0.973268         -0.967091              0.928881   \n",
      "4         -0.967445         -0.978295              0.926600   \n",
      "5         -0.970417         -0.965316              0.925663   \n",
      "\n",
      "   tGravityAcc-mean()-Y  tGravityAcc-mean()-Z  tGravityAcc-std()-X  ...  \\\n",
      "0             -0.282719              0.115288            -0.925427  ...   \n",
      "1             -0.289215              0.152568            -0.989057  ...   \n",
      "2             -0.287513              0.146086            -0.995937  ...   \n",
      "3             -0.293396              0.142926            -0.993139  ...   \n",
      "4             -0.302961              0.138307            -0.995575  ...   \n",
      "5             -0.308940              0.130561            -0.998842  ...   \n",
      "\n",
      "   fBodyGyro-std()-Y  fBodyGyro-std()-Z  fBodyAccMag-mean()  \\\n",
      "0          -0.822677          -0.956165           -0.790946   \n",
      "1          -0.932011          -0.970143           -0.954127   \n",
      "2          -0.977194          -0.979095           -0.975650   \n",
      "3          -0.971909          -0.965275           -0.973393   \n",
      "4          -0.976565          -0.970017           -0.977739   \n",
      "5          -0.974247          -0.967816           -0.978002   \n",
      "\n",
      "   fBodyAccMag-std()  fBodyBodyAccJerkMag-mean()  fBodyBodyAccJerkMag-std()  \\\n",
      "0          -0.711074                   -0.895061                  -0.896360   \n",
      "1          -0.959746                   -0.945437                  -0.934152   \n",
      "2          -0.983784                   -0.971069                  -0.970308   \n",
      "3          -0.982120                   -0.971655                  -0.978484   \n",
      "4          -0.978838                   -0.987489                  -0.989716   \n",
      "5          -0.979876                   -0.991295                  -0.991744   \n",
      "\n",
      "   fBodyBodyGyroMag-mean()  fBodyBodyGyroMag-std()  \\\n",
      "0                -0.770610               -0.797113   \n",
      "1                -0.924461               -0.916774   \n",
      "2                -0.975209               -0.973998   \n",
      "3                -0.976297               -0.971248   \n",
      "4                -0.977007               -0.969619   \n",
      "5                -0.977035               -0.975051   \n",
      "\n",
      "   fBodyBodyGyroJerkMag-mean()  fBodyBodyGyroJerkMag-std()  \n",
      "0                    -0.890165                   -0.907308  \n",
      "1                    -0.951977                   -0.938212  \n",
      "2                    -0.985689                   -0.983273  \n",
      "3                    -0.985562                   -0.985843  \n",
      "4                    -0.990498                   -0.990572  \n",
      "5                    -0.988733                   -0.989805  \n",
      "\n",
      "[6 rows x 66 columns]\n"
     ]
    }
   ],
   "source": [
    "select = [i for i in df.keys() if \"mean()\" in i or \"std()\" in i]\n",
    "print(df[select].head(6))"
   ]
  },
  {
   "cell_type": "markdown",
   "metadata": {},
   "source": [
    "3. Uses descriptive activity names to name the activities in the data set."
   ]
  },
  {
   "cell_type": "code",
   "execution_count": 10,
   "metadata": {},
   "outputs": [
    {
     "name": "stdout",
     "output_type": "stream",
     "text": [
      "0    STANDING\n",
      "1    STANDING\n",
      "2    STANDING\n",
      "3    STANDING\n",
      "4    STANDING\n",
      "5    STANDING\n",
      "Name: y_0, dtype: object\n"
     ]
    },
    {
     "name": "stderr",
     "output_type": "stream",
     "text": [
      "<ipython-input-10-bdde63d520ce>:6: SettingWithCopyWarning: \n",
      "A value is trying to be set on a copy of a slice from a DataFrame\n",
      "\n",
      "See the caveats in the documentation: https://pandas.pydata.org/pandas-docs/stable/user_guide/indexing.html#returning-a-view-versus-a-copy\n",
      "  df[\"y_0\"][i] = labels[df[\"y_0\"][i]]\n"
     ]
    }
   ],
   "source": [
    "labels = open(\"./UCI HAR Dataset/activity_labels.txt\").read()\n",
    "labels = re.sub(r\"(^\\s+|\\s+$)\", \"\", labels)\n",
    "labels = [i.split(\" \") for i in labels.split(\"\\n\")]\n",
    "labels = {int(i[0]): i[1] for i in labels}\n",
    "for i in range(len(df[\"y_0\"])):\n",
    "    df[\"y_0\"][i] = labels[df[\"y_0\"][i]]\n",
    "print(df[\"y_0\"].head(6))"
   ]
  },
  {
   "cell_type": "markdown",
   "metadata": {},
   "source": [
    "4. Appropriately labels the data set with descriptive variable names."
   ]
  },
  {
   "cell_type": "code",
   "execution_count": 11,
   "metadata": {},
   "outputs": [
    {
     "name": "stdout",
     "output_type": "stream",
     "text": [
      "Index(['subject', 'tBodyAcc-mean()-X', 'tBodyAcc-mean()-Y',\n",
      "       'tBodyAcc-mean()-Z', 'tBodyAcc-std()-X', 'tBodyAcc-std()-Y',\n",
      "       'tBodyAcc-std()-Z', 'tBodyAcc-mad()-X', 'tBodyAcc-mad()-Y',\n",
      "       'tBodyAcc-mad()-Z',\n",
      "       ...\n",
      "       'total_acc_z_118', 'total_acc_z_119', 'total_acc_z_120',\n",
      "       'total_acc_z_121', 'total_acc_z_122', 'total_acc_z_123',\n",
      "       'total_acc_z_124', 'total_acc_z_125', 'total_acc_z_126',\n",
      "       'total_acc_z_127'],\n",
      "      dtype='object', length=1631)\n"
     ]
    }
   ],
   "source": [
    "df = df.rename(columns={\"y_0\": \"activity\", \"subject_0\": \"subject\"})\n",
    "print(df.keys())"
   ]
  },
  {
   "cell_type": "markdown",
   "metadata": {},
   "source": [
    "5. From the data set in step 4, creates a second, independent tidy data set with the average of each variable for each activity and each subject."
   ]
  },
  {
   "cell_type": "code",
   "execution_count": 15,
   "metadata": {},
   "outputs": [],
   "source": [
    "unique_df = df[[\"activity\", \"subject\"]].drop_duplicates()\n",
    "unique_df.index = range(len(unique_df))\n",
    "mean_df = pd.DataFrame(columns=df.keys())\n",
    "mean_df = pd.concat([mean_df, unique_df])\n",
    "js = [k for k in mean_df.keys() if k != \"activity\" and k != \"subject\"]\n",
    "for i in mean_df.index:\n",
    "    for j in js:\n",
    "        activity = (df[\"activity\"] == mean_df[\"activity\"][i])\n",
    "        subject = (df[\"subject\"] == mean_df[\"subject\"][i])\n",
    "        mean_df[j][i] = df[activity & subject][j].mean()\n",
    "mean_df.to_csv(\"tidy_data_set.csv\",index=False)"
   ]
  },
  {
   "cell_type": "code",
   "execution_count": 16,
   "metadata": {},
   "outputs": [
    {
     "name": "stdout",
     "output_type": "stream",
     "text": [
      "  subject tBodyAcc-mean()-X tBodyAcc-mean()-Y tBodyAcc-mean()-Z  \\\n",
      "0       2          0.277911         -0.018421         -0.105909   \n",
      "1       2          0.277087         -0.015688         -0.109218   \n",
      "2       2          0.281373         -0.018159         -0.107246   \n",
      "3       2          0.276427         -0.018595           -0.1055   \n",
      "4       2          0.277615         -0.022661         -0.116813   \n",
      "5       2          0.247165         -0.021412         -0.152514   \n",
      "\n",
      "  tBodyAcc-std()-X tBodyAcc-std()-Y tBodyAcc-std()-Z tBodyAcc-mad()-X  \\\n",
      "0        -0.987272        -0.957305        -0.949742        -0.989341   \n",
      "1        -0.986822        -0.950704        -0.959828        -0.988594   \n",
      "2        -0.974059        -0.980277        -0.984233        -0.976607   \n",
      "3        -0.423643        -0.078091        -0.425258        -0.460983   \n",
      "4         0.046367         0.262882        -0.102838        -0.062713   \n",
      "5        -0.304376         0.108027        -0.112121        -0.361107   \n",
      "\n",
      "  tBodyAcc-mad()-Y tBodyAcc-mad()-Z  ... total_acc_z_118 total_acc_z_119  \\\n",
      "0        -0.957544        -0.947603  ...        0.123088        0.123912   \n",
      "1        -0.951538        -0.958943  ...        0.190512        0.190469   \n",
      "2        -0.980964        -0.984845  ...        0.630739        0.630411   \n",
      "3        -0.120173        -0.410145  ...        0.086022        0.067065   \n",
      "4         0.206997        -0.118191  ...       -0.053098       -0.056397   \n",
      "5         0.113199        -0.151314  ...       -0.295491       -0.307006   \n",
      "\n",
      "  total_acc_z_120 total_acc_z_121 total_acc_z_122 total_acc_z_123  \\\n",
      "0        0.123717         0.12265        0.122459        0.123343   \n",
      "1        0.190868        0.190826        0.191012        0.191736   \n",
      "2        0.630395        0.630458        0.630054        0.629872   \n",
      "3        0.060751        0.067542         0.07521        0.082287   \n",
      "4       -0.048755       -0.057366       -0.064071       -0.061869   \n",
      "5       -0.309591       -0.297004       -0.278638       -0.273697   \n",
      "\n",
      "  total_acc_z_124 total_acc_z_125 total_acc_z_126 total_acc_z_127  \n",
      "0        0.123487        0.122681        0.121855        0.121674  \n",
      "1        0.192153        0.191331        0.191095        0.191655  \n",
      "2        0.630796         0.63127        0.630865        0.631136  \n",
      "3        0.082096        0.075709        0.075904        0.087646  \n",
      "4       -0.060318       -0.044602       -0.043247       -0.067181  \n",
      "5       -0.277774       -0.282714       -0.278032       -0.265113  \n",
      "\n",
      "[6 rows x 1631 columns]\n"
     ]
    }
   ],
   "source": [
    "print(mean_df.head(6))"
   ]
  },
  {
   "cell_type": "code",
   "execution_count": null,
   "metadata": {},
   "outputs": [],
   "source": []
  },
  {
   "cell_type": "code",
   "execution_count": null,
   "metadata": {},
   "outputs": [],
   "source": []
  }
 ],
 "metadata": {
  "kernelspec": {
   "display_name": "Python 3 (ipykernel)",
   "language": "python",
   "name": "python3"
  },
  "language_info": {
   "codemirror_mode": {
    "name": "ipython",
    "version": 3
   },
   "file_extension": ".py",
   "mimetype": "text/x-python",
   "name": "python",
   "nbconvert_exporter": "python",
   "pygments_lexer": "ipython3",
   "version": "3.7.4"
  }
 },
 "nbformat": 4,
 "nbformat_minor": 2
}
