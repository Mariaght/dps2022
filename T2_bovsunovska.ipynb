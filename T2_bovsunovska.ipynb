{
 "cells": [
  {
   "cell_type": "code",
   "execution_count": null,
   "metadata": {},
   "outputs": [],
   "source": []
  },
  {
   "cell_type": "markdown",
   "metadata": {},
   "source": [
    "# Task 2\n",
    "### of Data Processing Software\n",
    "### Student IAB-11\n",
    "### Bovsunovska Mariia"
   ]
  },
  {
   "cell_type": "markdown",
   "metadata": {},
   "source": [
    "Firstly lets import nessesary libraries"
   ]
  },
  {
   "cell_type": "code",
   "execution_count": 1,
   "metadata": {},
   "outputs": [],
   "source": [
    "import pandas as pd\n",
    "import os"
   ]
  },
  {
   "cell_type": "markdown",
   "metadata": {},
   "source": [
    "#### Part 1\n",
    "\n",
    "Write a function named pollutantmean that calculates the mean of a pollutant (sulfate or\n",
    "nitrate) across a specified list of monitors. The function pollutantmean takes three arguments:\n",
    "directory, pollutant, and id. Given a vector monitor ID numbers, pollutantmean reads\n",
    "that monitors’ particulate matter data from the directory specified in the directory argument\n",
    "and returns the mean of the pollutant across all of the monitors, ignoring any missing values\n",
    "coded as NA."
   ]
  },
  {
   "cell_type": "code",
   "execution_count": 10,
   "metadata": {},
   "outputs": [],
   "source": [
    "def pollutantmean(directory: str, pollutant: str, ids: int or list) -> int:\n",
    "    if isinstance(ids, int):\n",
    "        ids = [ids]\n",
    "    df = pd.concat([pd.read_csv(directory + \"/\" + format(i, \"03d\") + \".csv\") for i in ids])\n",
    "    mean = round(df[pollutant].mean(),6)\n",
    "    return mean"
   ]
  },
  {
   "cell_type": "markdown",
   "metadata": {},
   "source": [
    "You can see some example output from this function below."
   ]
  },
  {
   "cell_type": "code",
   "execution_count": 12,
   "metadata": {},
   "outputs": [
    {
     "name": "stdout",
     "output_type": "stream",
     "text": [
      "4.064128\n",
      "1.706047\n",
      "1.280833\n"
     ]
    }
   ],
   "source": [
    "print(pollutantmean(\"specdata\", \"sulfate\", range(1, 11)))\n",
    "print(pollutantmean(\"specdata\", \"nitrate\", range(70, 73)))\n",
    "print(pollutantmean(\"specdata\", \"nitrate\", 23))"
   ]
  },
  {
   "cell_type": "markdown",
   "metadata": {},
   "source": [
    "Numbers are the same as in example, so we can pretend that function is written correctly.\n",
    "\n",
    "#### Part 2\n",
    "\n",
    "Write a function named complete that reads a directory full of files and reports the number of\n",
    "completely observed cases in each data file. The function should return a data frame where the\n",
    "first column is the name of the file and the second column is the number of complete cases."
   ]
  },
  {
   "cell_type": "code",
   "execution_count": 33,
   "metadata": {},
   "outputs": [],
   "source": [
    "def complete(directory: str, ids: int or list) -> dict:\n",
    "    if isinstance(ids, int):\n",
    "        ids = [ids]\n",
    "    dfs = {i: pd.read_csv(directory + \"/\" + format(i, \"03d\") + \".csv\") for i in ids}\n",
    "    dfs = {i: df[(df[\"sulfate\"].notnull()) & (df[\"nitrate\"].notnull())] for i, df in dfs.items()}\n",
    "    lengths = pd.DataFrame.from_dict({i: [len(df)] for i, df in dfs.items()}, orient='index', columns=['nobs'])\n",
    "    return lengths"
   ]
  },
  {
   "cell_type": "markdown",
   "metadata": {},
   "source": [
    "You can see some example output from this function below."
   ]
  },
  {
   "cell_type": "code",
   "execution_count": 34,
   "metadata": {},
   "outputs": [
    {
     "name": "stdout",
     "output_type": "stream",
     "text": [
      "   nobs\n",
      "1   117\n",
      "    nobs\n",
      "2   1041\n",
      "4    474\n",
      "8    192\n",
      "10   148\n",
      "12    96\n",
      "    nobs\n",
      "30   932\n",
      "29   711\n",
      "28   475\n",
      "27   338\n",
      "26   586\n",
      "25   463\n"
     ]
    }
   ],
   "source": [
    "print(complete(\"specdata\", 1))\n",
    "print(complete(\"specdata\", [2, 4, 8, 10, 12]))\n",
    "print(complete(\"specdata\", range(30, 24, -1)))"
   ]
  },
  {
   "cell_type": "markdown",
   "metadata": {},
   "source": [
    "Numbers are the same as in example, so we can pretend that function is written correctly.\n",
    "\n",
    "#### Part 3\n",
    "\n",
    "Write a function named corr that takes a directory of data files and a threshold for complete\n",
    "cases and calculates the correlation between sulfate and nitrate for monitor locations where\n",
    "the number of completely observed cases (on all variables) is greater than the threshold. The\n",
    "function should return a vector of correlations for the monitors that meet the threshold requirement.\n",
    "If no monitors meet the threshold requirement, then the function should return a\n",
    "numeric vector of length 0. For this function you will need to use the ‘cor’ function in R which\n",
    "calculates the correlation between two vectors."
   ]
  },
  {
   "cell_type": "code",
   "execution_count": 58,
   "metadata": {},
   "outputs": [],
   "source": [
    "def corr(directory: str, threshold: int) -> list:\n",
    "    dfs = [pd.read_csv(directory + \"/\" + file) for file in os.listdir(directory)]\n",
    "    dfs = [df[(df[\"sulfate\"].notnull()) & (df[\"nitrate\"].notnull())] for df in dfs]\n",
    "    lengths = [len(df) for df in dfs]\n",
    "    correlations = pd.DataFrame([df[\"sulfate\"].corr(df[\"nitrate\"]) for i, df in enumerate(dfs) if lengths[i] >= threshold])\n",
    "    return correlations"
   ]
  },
  {
   "cell_type": "markdown",
   "metadata": {},
   "source": [
    "Lets try to use it on examples from manual."
   ]
  },
  {
   "cell_type": "code",
   "execution_count": 59,
   "metadata": {},
   "outputs": [
    {
     "name": "stdout",
     "output_type": "stream",
     "text": [
      "          0         1         2        3         4         5\n",
      "0 -0.018958 -0.140513 -0.043897 -0.06816 -0.123507 -0.075888\n",
      "   count      mean       std       min       25%       50%       75%       max\n",
      "0  235.0  0.124006  0.219324 -0.210568 -0.051465  0.093331  0.268364  0.763129\n"
     ]
    }
   ],
   "source": [
    "cr = corr(\"specdata\", 150)\n",
    "print(cr.head(6).T)\n",
    "print(cr.describe().T)"
   ]
  },
  {
   "cell_type": "code",
   "execution_count": 61,
   "metadata": {},
   "outputs": [
    {
     "name": "stdout",
     "output_type": "stream",
     "text": [
      "          0         1        2         3         4         5\n",
      "0 -0.018958 -0.043897 -0.06816 -0.075888  0.763129 -0.157829\n",
      "   count      mean       std       min       25%       50%       75%       max\n",
      "0  127.0  0.139686  0.210523 -0.176233 -0.031093  0.100212  0.268492  0.763129\n"
     ]
    }
   ],
   "source": [
    "cr = corr(\"specdata\", 400)\n",
    "print(cr.head(6).T)\n",
    "print(cr.describe().T)"
   ]
  },
  {
   "cell_type": "code",
   "execution_count": 65,
   "metadata": {},
   "outputs": [
    {
     "name": "stdout",
     "output_type": "stream",
     "text": [
      "Empty DataFrame\n",
      "Columns: []\n",
      "Index: []\n"
     ]
    }
   ],
   "source": [
    "cr = corr(\"specdata\", 5000)\n",
    "print(cr.head(6).T)"
   ]
  },
  {
   "cell_type": "markdown",
   "metadata": {},
   "source": [
    "Results are the same as in example, so we can pretend that function is written correctly."
   ]
  },
  {
   "cell_type": "code",
   "execution_count": 66,
   "metadata": {},
   "outputs": [
    {
     "data": {
      "text/plain": [
       "'1.3.5'"
      ]
     },
     "execution_count": 66,
     "metadata": {},
     "output_type": "execute_result"
    }
   ],
   "source": [
    "pd.__version__"
   ]
  },
  {
   "cell_type": "code",
   "execution_count": null,
   "metadata": {},
   "outputs": [],
   "source": []
  },
  {
   "cell_type": "code",
   "execution_count": null,
   "metadata": {},
   "outputs": [],
   "source": []
  },
  {
   "cell_type": "code",
   "execution_count": null,
   "metadata": {},
   "outputs": [],
   "source": []
  }
 ],
 "metadata": {
  "kernelspec": {
   "display_name": "Python 3 (ipykernel)",
   "language": "python",
   "name": "python3"
  },
  "language_info": {
   "codemirror_mode": {
    "name": "ipython",
    "version": 3
   },
   "file_extension": ".py",
   "mimetype": "text/x-python",
   "name": "python",
   "nbconvert_exporter": "python",
   "pygments_lexer": "ipython3",
   "version": "3.7.4"
  }
 },
 "nbformat": 4,
 "nbformat_minor": 2
}
